{
 "cells": [
  {
   "cell_type": "code",
   "execution_count": 3,
   "metadata": {},
   "outputs": [
    {
     "name": "stdout",
     "output_type": "stream",
     "text": [
      "Spark Web UI running at: http://DESKTOP-MGIJLCC:4042\n",
      "Training data rows: 77349\n",
      "Test data rows: 19104\n",
      "+--------------------+------------------+------------------+\n",
      "|            features|             label|        prediction|\n",
      "+--------------------+------------------+------------------+\n",
      "|[-3.0433858407814...|38.788888888888884|34.241805342309796|\n",
      "|[-2.9922278120572...| 21.20555555555556|23.600904225477738|\n",
      "|[-2.9922278120572...|38.983333333333334|33.496929866584736|\n",
      "|[-2.9410697833330...| 37.89444444444444|35.399644964992135|\n",
      "|[-2.8899117546088...| 38.71666666666667|34.319523333269565|\n",
      "+--------------------+------------------+------------------+\n",
      "only showing top 5 rows\n",
      "\n",
      "GBT RMSE: 3.3797962304839406\n",
      "GBT R2: 0.8755016620522316\n"
     ]
    }
   ],
   "source": [
    "from pyspark.sql import SparkSession\n",
    "from pyspark.sql.functions import col, sum, hour, month\n",
    "from pyspark.ml.feature import VectorAssembler, StringIndexer, OneHotEncoder, StandardScaler\n",
    "from pyspark.ml.regression import GBTRegressor\n",
    "from pyspark.ml.evaluation import RegressionEvaluator\n",
    "\n",
    "# Khởi tạo Spark Session\n",
    "spark = SparkSession.builder \\\n",
    "    .appName(\"WeatherPredictionGBT\") \\\n",
    "    .config(\"spark.ui.port\", \"4040\") \\\n",
    "    .getOrCreate()\n",
    "\n",
    "# In URL của Web UI để theo dõi\n",
    "print(\"Spark Web UI running at:\", spark.sparkContext.uiWebUrl)\n",
    "\n",
    "# Đọc dữ liệu\n",
    "file_path = \"C:/bigdata/weatherHistory.csv\"\n",
    "df = spark.read.csv(file_path, header=True, inferSchema=True)\n",
    "\n",
    "# Thêm đặc trưng thời gian\n",
    "df = df.withColumn(\"Hour\", hour(col(\"Formatted Date\")))\n",
    "df = df.withColumn(\"Month\", month(col(\"Formatted Date\")))\n",
    "\n",
    "# Mã hóa cột Summary (loại thời tiết)\n",
    "indexer = StringIndexer(inputCol=\"Summary\", outputCol=\"SummaryIndex\")\n",
    "df = indexer.fit(df).transform(df)\n",
    "encoder = OneHotEncoder(inputCols=[\"SummaryIndex\"], outputCols=[\"SummaryVec\"])\n",
    "df = encoder.fit(df).transform(df)\n",
    "\n",
    "# Chọn đặc trưng\n",
    "feature_cols = [\"Humidity\", \"Wind Speed (km/h)\", \"Wind Bearing (degrees)\", \n",
    "                \"Visibility (km)\", \"Pressure (millibars)\", \"SummaryVec\", \"Hour\", \"Month\"]\n",
    "assembler = VectorAssembler(inputCols=feature_cols, outputCol=\"features\")\n",
    "final_df = assembler.transform(df).select(col(\"features\"), col(\"Temperature (C)\").alias(\"label\"))\n",
    "\n",
    "# Chuẩn hóa dữ liệu\n",
    "scaler = StandardScaler(inputCol=\"features\", outputCol=\"scaledFeatures\", withStd=True, withMean=True)\n",
    "scaler_model = scaler.fit(final_df)\n",
    "final_df = scaler_model.transform(final_df).select(col(\"scaledFeatures\").alias(\"features\"), \"label\")\n",
    "\n",
    "# Chia dữ liệu thành tập huấn luyện và kiểm tra\n",
    "train_data, test_data = final_df.randomSplit([0.8, 0.2], seed=42)\n",
    "print(f\"Training data rows: {train_data.count()}\")\n",
    "print(f\"Test data rows: {test_data.count()}\")\n",
    "\n",
    "# Huấn luyện GBTRegressor\n",
    "spark.sparkContext.setJobGroup(\"GBT Training\", \"Training Gradient Boosted Trees\")\n",
    "gbt = GBTRegressor(featuresCol=\"features\", labelCol=\"label\", maxIter=50, maxDepth=5)\n",
    "gbt_model = gbt.fit(train_data)\n",
    "\n",
    "# Dự đoán trên tập kiểm tra\n",
    "spark.sparkContext.setJobGroup(\"Prediction\", \"Making predictions with GBT\")\n",
    "predictions = gbt_model.transform(test_data)\n",
    "predictions.select(\"features\", \"label\", \"prediction\").show(5)\n",
    "\n",
    "# Đánh giá mô hình\n",
    "evaluator_rmse = RegressionEvaluator(labelCol=\"label\", predictionCol=\"prediction\", metricName=\"rmse\")\n",
    "evaluator_r2 = RegressionEvaluator(labelCol=\"label\", predictionCol=\"prediction\", metricName=\"r2\")\n",
    "rmse = evaluator_rmse.evaluate(predictions)\n",
    "r2 = evaluator_r2.evaluate(predictions)\n",
    "print(f\"GBT RMSE: {rmse}\")\n",
    "print(f\"GBT R2: {r2}\")\n",

    "# Dừng Spark Session\n",
    "input(\"Press Enter to stop Spark and close Web UI...\")\n",
    "spark.stop()"
   ]
  }
 ],
 "metadata": {
  "kernelspec": {
   "display_name": "bigdata",
   "language": "python",
   "name": "python3"
  },
  "language_info": {
   "codemirror_mode": {
    "name": "ipython",
    "version": 3
   },
   "file_extension": ".py",
   "mimetype": "text/x-python",
   "name": "python",
   "nbconvert_exporter": "python",
   "pygments_lexer": "ipython3",
   "version": "3.9.0"
  }
 },
 "nbformat": 4,
 "nbformat_minor": 2
}
